{
 "cells": [
  {
   "cell_type": "code",
   "execution_count": 92,
   "metadata": {},
   "outputs": [],
   "source": [
    "import pandas as pd\n",
    "import numpy as np\n",
    "import matplotlib.pyplot as plt\n",
    "from sqlalchemy import create_engine\n",
    "from sqlalchemy.sql import select\n",
    "engine = create_engine('sqlite://', echo=False)\n",
    "conn = engine.connect()"
   ]
  },
  {
   "cell_type": "markdown",
   "metadata": {},
   "source": [
    "##  Reading in Stored Player Data by Game:"
   ]
  },
  {
   "cell_type": "code",
   "execution_count": 54,
   "metadata": {
    "scrolled": true
   },
   "outputs": [],
   "source": [
    "# To read a file into python from a csv:\n",
    "# use pd.read_csv(<\"path/filename.csv\">,<na_values=None>,<header=0<determines if we use headers>>,<names=>,<usecols=\"name specific columns to use>,<index_col=None<sets the column index>>,<dtype=<only allows specific data types>,<skiprows=<skip specific rows>)\n",
    "player_data = pd.read_csv('npo_all_player_games.csv',index_col=0, na_values=None)\n",
    "pd.set_option('display.max_columns', 500)"
   ]
  },
  {
   "cell_type": "code",
   "execution_count": 93,
   "metadata": {
    "scrolled": true
   },
   "outputs": [
    {
     "name": "stdout",
     "output_type": "stream",
     "text": [
      "<class 'pandas.core.frame.DataFrame'>\n",
      "Int64Index: 67971 entries, 0 to 67970\n",
      "Data columns (total 28 columns):\n",
      "Name                   67971 non-null object\n",
      "Dates                  67971 non-null object\n",
      "Age                    67971 non-null object\n",
      "Location               67971 non-null object\n",
      "Team                   67971 non-null object\n",
      "Opponent               67971 non-null object\n",
      "Game Result            67971 non-null object\n",
      "Started                67971 non-null object\n",
      "Minutes Played         67971 non-null object\n",
      "FG                     67971 non-null object\n",
      "FGA                    67971 non-null object\n",
      "FG3                    67971 non-null object\n",
      "FG3A                   67971 non-null object\n",
      "FG3Pct                 67971 non-null object\n",
      "FreeThrows             67971 non-null object\n",
      "Free Throw Attempts    67971 non-null object\n",
      "Free Throw Percent     67971 non-null object\n",
      "Offensive Rebounds     67971 non-null object\n",
      "Defensive Rebounds     67971 non-null object\n",
      "Total Rebounds         67971 non-null object\n",
      "Assists                67971 non-null object\n",
      "Steals                 67971 non-null object\n",
      "Blocks                 67971 non-null object\n",
      "Turnovers              67971 non-null object\n",
      "Personal Fouls         67971 non-null object\n",
      "Points                 67971 non-null object\n",
      "Game Score             67971 non-null object\n",
      "Plus Minus             67971 non-null object\n",
      "dtypes: object(28)\n",
      "memory usage: 115.7 MB\n"
     ]
    }
   ],
   "source": [
    "# Check the size of the data to make sure memory is ok\n",
    "player_data.info(memory_usage='deep')"
   ]
  },
  {
   "cell_type": "code",
   "execution_count": 106,
   "metadata": {
    "scrolled": false
   },
   "outputs": [],
   "source": [
    "#player_data.to_sql('players',con=engine)"
   ]
  },
  {
   "cell_type": "code",
   "execution_count": 138,
   "metadata": {},
   "outputs": [],
   "source": [
    "from_database = engine.execute(\"SELECT * FROM players\").fetchall()"
   ]
  },
  {
   "cell_type": "code",
   "execution_count": null,
   "metadata": {},
   "outputs": [],
   "source": []
  },
  {
   "cell_type": "markdown",
   "metadata": {},
   "source": [
    "## Pandas Refresher: Series"
   ]
  },
  {
   "cell_type": "code",
   "execution_count": 5,
   "metadata": {},
   "outputs": [],
   "source": [
    "# a pandas series can hold a numpy array, list, tuple, dictionary\n",
    "# The second argument is the index sequence\n",
    "p =pd.Series(np.random.random(size=4), index=['time1','time2','time3','time4'])"
   ]
  },
  {
   "cell_type": "code",
   "execution_count": 4,
   "metadata": {},
   "outputs": [
    {
     "data": {
      "text/plain": [
       "0.45294907631986636"
      ]
     },
     "execution_count": 4,
     "metadata": {},
     "output_type": "execute_result"
    }
   ],
   "source": [
    "p['time1']"
   ]
  },
  {
   "cell_type": "markdown",
   "metadata": {},
   "source": [
    "## Pandas DataFrames"
   ]
  },
  {
   "cell_type": "code",
   "execution_count": 13,
   "metadata": {},
   "outputs": [],
   "source": [
    "# A data frame in pandas is a generic matrix where we can use rows and columns to model data\n",
    "# In pandas each row stands for an observation\n",
    "# Each column represents some feature of the data\n",
    "# The Features of a Data Frame are given and reffered by names \n",
    "# Features can have a mixture of data types\n",
    "# Similar to a table in a Relational database, I can apply many powerful methods to conduct data analysis\n",
    "# Methods include Row manipulation, selection, soreting, reshaping etc."
   ]
  },
  {
   "cell_type": "markdown",
   "metadata": {},
   "source": [
    "#### Generating data frames:"
   ]
  },
  {
   "cell_type": "code",
   "execution_count": 18,
   "metadata": {},
   "outputs": [],
   "source": [
    "# Generating a pandas data frame:\n",
    "# constructor method: pd.DataFram(\"Accpets: NP Array | PD Series | list of lists or tuples)\n",
    "# external file: load csv's or json into a dataframe\n",
    "# selecting/ slice / or join from an existing data frame\n",
    "\n",
    "x = pd.DataFrame([pd.Series(np.random.random(size=4), index=['time1','time2','time3','time4'])])\n",
    "y = pd.DataFrame(np.array([range(1,5),[0,1,2,3]]))\n",
    "z = pd.DataFrame(np.array([[0,1,2,3],[4,5,6,6]]), columns=['c1','c2','c3','c4'])"
   ]
  },
  {
   "cell_type": "code",
   "execution_count": 19,
   "metadata": {},
   "outputs": [
    {
     "data": {
      "text/html": [
       "<div>\n",
       "<table border=\"1\" class=\"dataframe\">\n",
       "  <thead>\n",
       "    <tr style=\"text-align: right;\">\n",
       "      <th></th>\n",
       "      <th>time1</th>\n",
       "      <th>time2</th>\n",
       "      <th>time3</th>\n",
       "      <th>time4</th>\n",
       "    </tr>\n",
       "  </thead>\n",
       "  <tbody>\n",
       "    <tr>\n",
       "      <th>0</th>\n",
       "      <td>0.187832</td>\n",
       "      <td>0.775538</td>\n",
       "      <td>0.179081</td>\n",
       "      <td>0.476286</td>\n",
       "    </tr>\n",
       "  </tbody>\n",
       "</table>\n",
       "</div>"
      ],
      "text/plain": [
       "      time1     time2     time3     time4\n",
       "0  0.187832  0.775538  0.179081  0.476286"
      ]
     },
     "execution_count": 19,
     "metadata": {},
     "output_type": "execute_result"
    }
   ],
   "source": [
    "x"
   ]
  },
  {
   "cell_type": "code",
   "execution_count": 20,
   "metadata": {},
   "outputs": [
    {
     "data": {
      "text/html": [
       "<div>\n",
       "<table border=\"1\" class=\"dataframe\">\n",
       "  <thead>\n",
       "    <tr style=\"text-align: right;\">\n",
       "      <th></th>\n",
       "      <th>0</th>\n",
       "      <th>1</th>\n",
       "      <th>2</th>\n",
       "      <th>3</th>\n",
       "    </tr>\n",
       "  </thead>\n",
       "  <tbody>\n",
       "    <tr>\n",
       "      <th>0</th>\n",
       "      <td>1</td>\n",
       "      <td>2</td>\n",
       "      <td>3</td>\n",
       "      <td>4</td>\n",
       "    </tr>\n",
       "    <tr>\n",
       "      <th>1</th>\n",
       "      <td>0</td>\n",
       "      <td>1</td>\n",
       "      <td>2</td>\n",
       "      <td>3</td>\n",
       "    </tr>\n",
       "  </tbody>\n",
       "</table>\n",
       "</div>"
      ],
      "text/plain": [
       "   0  1  2  3\n",
       "0  1  2  3  4\n",
       "1  0  1  2  3"
      ]
     },
     "execution_count": 20,
     "metadata": {},
     "output_type": "execute_result"
    }
   ],
   "source": [
    "y"
   ]
  },
  {
   "cell_type": "code",
   "execution_count": 22,
   "metadata": {},
   "outputs": [
    {
     "data": {
      "text/html": [
       "<div>\n",
       "<table border=\"1\" class=\"dataframe\">\n",
       "  <thead>\n",
       "    <tr style=\"text-align: right;\">\n",
       "      <th></th>\n",
       "      <th>c1</th>\n",
       "      <th>c2</th>\n",
       "      <th>c3</th>\n",
       "      <th>c4</th>\n",
       "    </tr>\n",
       "  </thead>\n",
       "  <tbody>\n",
       "    <tr>\n",
       "      <th>0</th>\n",
       "      <td>0</td>\n",
       "      <td>1</td>\n",
       "      <td>2</td>\n",
       "      <td>3</td>\n",
       "    </tr>\n",
       "    <tr>\n",
       "      <th>1</th>\n",
       "      <td>4</td>\n",
       "      <td>5</td>\n",
       "      <td>6</td>\n",
       "      <td>6</td>\n",
       "    </tr>\n",
       "  </tbody>\n",
       "</table>\n",
       "</div>"
      ],
      "text/plain": [
       "   c1  c2  c3  c4\n",
       "0   0   1   2   3\n",
       "1   4   5   6   6"
      ]
     },
     "execution_count": 22,
     "metadata": {},
     "output_type": "execute_result"
    }
   ],
   "source": [
    "z"
   ]
  },
  {
   "cell_type": "code",
   "execution_count": 24,
   "metadata": {},
   "outputs": [],
   "source": [
    "# data frames can contain a mixture of data types\n",
    "records = [['Harden','SG', 13, {'MVP':2017}], ['James', 'SF',23,{'MVP':2014}]]\n",
    "titles=['player','number','position','mvp']\n",
    "mvps = pd.DataFrame(records,columns=titles)"
   ]
  },
  {
   "cell_type": "code",
   "execution_count": 28,
   "metadata": {},
   "outputs": [
    {
     "name": "stdout",
     "output_type": "stream",
     "text": [
      "Harden MVP Year:  2017\n"
     ]
    }
   ],
   "source": [
    "print(\"Harden MVP Year: \",mvps['mvp'][0]['MVP'])"
   ]
  },
  {
   "cell_type": "markdown",
   "metadata": {},
   "source": [
    "#### Understanding Properties of our DataFrame:"
   ]
  },
  {
   "cell_type": "code",
   "execution_count": 29,
   "metadata": {},
   "outputs": [
    {
     "name": "stdout",
     "output_type": "stream",
     "text": [
      "                      0              1\n",
      "player           Harden          James\n",
      "number               SG             SF\n",
      "position             13             23\n",
      "mvp       {'MVP': 2017}  {'MVP': 2014}\n"
     ]
    }
   ],
   "source": [
    "# Transposing the data\n",
    "print(mvps.T)"
   ]
  },
  {
   "cell_type": "code",
   "execution_count": 30,
   "metadata": {},
   "outputs": [
    {
     "name": "stdout",
     "output_type": "stream",
     "text": [
      "(2, 4)\n"
     ]
    }
   ],
   "source": [
    "# Returning the shape shape of the data Frame\n",
    "print(mvps.shape)"
   ]
  },
  {
   "cell_type": "code",
   "execution_count": 31,
   "metadata": {},
   "outputs": [
    {
     "name": "stdout",
     "output_type": "stream",
     "text": [
      "2\n"
     ]
    }
   ],
   "source": [
    "# Returning the dimensions of the DataFrame\n",
    "print(mvps.ndim)"
   ]
  },
  {
   "cell_type": "code",
   "execution_count": 32,
   "metadata": {},
   "outputs": [
    {
     "name": "stdout",
     "output_type": "stream",
     "text": [
      "8\n"
     ]
    }
   ],
   "source": [
    "# Returning the size of the DataFrame\n",
    "print(mvps.size)"
   ]
  },
  {
   "cell_type": "code",
   "execution_count": 33,
   "metadata": {},
   "outputs": [
    {
     "name": "stdout",
     "output_type": "stream",
     "text": [
      "2\n"
     ]
    }
   ],
   "source": [
    "# Return the number of rows\n",
    "print(len(mvps))"
   ]
  },
  {
   "cell_type": "code",
   "execution_count": 34,
   "metadata": {},
   "outputs": [
    {
     "name": "stdout",
     "output_type": "stream",
     "text": [
      "[['Harden' 'SG' 13 {'MVP': 2017}]\n",
      " ['James' 'SF' 23 {'MVP': 2014}]]\n"
     ]
    }
   ],
   "source": [
    "# return the values of a DataFrame\n",
    "print(mvps.values)"
   ]
  },
  {
   "cell_type": "code",
   "execution_count": 39,
   "metadata": {},
   "outputs": [
    {
     "name": "stdout",
     "output_type": "stream",
     "text": [
      "All columns:  Index(['player', 'number', 'position', 'mvp'], dtype='object')\n",
      "The first column: player\n",
      "Retrieve column by first axes Index(['player', 'number', 'position', 'mvp'], dtype='object')\n",
      "1\n"
     ]
    }
   ],
   "source": [
    "# return the columns of a DataFrame\n",
    "print(\"All columns: \",mvps.columns)\n",
    "print(\"The first column:\", mvps.columns[0])\n",
    "print(\"Retrieve column by first axes\",mvps.axes[1])"
   ]
  },
  {
   "cell_type": "markdown",
   "metadata": {},
   "source": [
    "#### Creating Sub-Data Frames"
   ]
  },
  {
   "cell_type": "code",
   "execution_count": 108,
   "metadata": {},
   "outputs": [
    {
     "data": {
      "text/html": [
       "<div>\n",
       "<table border=\"1\" class=\"dataframe\">\n",
       "  <thead>\n",
       "    <tr style=\"text-align: right;\">\n",
       "      <th></th>\n",
       "      <th>Name</th>\n",
       "      <th>Dates</th>\n",
       "      <th>Age</th>\n",
       "      <th>Location</th>\n",
       "      <th>Team</th>\n",
       "      <th>Opponent</th>\n",
       "      <th>Game Result</th>\n",
       "      <th>Started</th>\n",
       "      <th>Minutes Played</th>\n",
       "      <th>FG</th>\n",
       "      <th>FGA</th>\n",
       "      <th>FG3</th>\n",
       "      <th>FG3A</th>\n",
       "      <th>FG3Pct</th>\n",
       "      <th>FreeThrows</th>\n",
       "      <th>Free Throw Attempts</th>\n",
       "      <th>Free Throw Percent</th>\n",
       "      <th>Offensive Rebounds</th>\n",
       "      <th>Defensive Rebounds</th>\n",
       "      <th>Total Rebounds</th>\n",
       "      <th>Assists</th>\n",
       "      <th>Steals</th>\n",
       "      <th>Blocks</th>\n",
       "      <th>Turnovers</th>\n",
       "      <th>Personal Fouls</th>\n",
       "      <th>Points</th>\n",
       "      <th>Game Score</th>\n",
       "      <th>Plus Minus</th>\n",
       "    </tr>\n",
       "  </thead>\n",
       "  <tbody>\n",
       "    <tr>\n",
       "      <th>1</th>\n",
       "      <td>Jonas Valanciunas</td>\n",
       "      <td>2012-11-03</td>\n",
       "      <td>20-181</td>\n",
       "      <td>away</td>\n",
       "      <td>TOR</td>\n",
       "      <td>BRK</td>\n",
       "      <td>L (-7)</td>\n",
       "      <td>1</td>\n",
       "      <td>12:13</td>\n",
       "      <td>1</td>\n",
       "      <td>4</td>\n",
       "      <td>0</td>\n",
       "      <td>0</td>\n",
       "      <td>0.0</td>\n",
       "      <td>0</td>\n",
       "      <td>0</td>\n",
       "      <td>0.0</td>\n",
       "      <td>1</td>\n",
       "      <td>2</td>\n",
       "      <td>3</td>\n",
       "      <td>2</td>\n",
       "      <td>0</td>\n",
       "      <td>2</td>\n",
       "      <td>1</td>\n",
       "      <td>3</td>\n",
       "      <td>2</td>\n",
       "      <td>1.5</td>\n",
       "      <td>+1</td>\n",
       "    </tr>\n",
       "    <tr>\n",
       "      <th>2</th>\n",
       "      <td>Jonas Valanciunas</td>\n",
       "      <td>2012-11-04</td>\n",
       "      <td>20-182</td>\n",
       "      <td>home</td>\n",
       "      <td>TOR</td>\n",
       "      <td>MIN</td>\n",
       "      <td>W (+19)</td>\n",
       "      <td>1</td>\n",
       "      <td>22:42</td>\n",
       "      <td>2</td>\n",
       "      <td>8</td>\n",
       "      <td>0</td>\n",
       "      <td>0</td>\n",
       "      <td>0.0</td>\n",
       "      <td>0</td>\n",
       "      <td>0</td>\n",
       "      <td>0.0</td>\n",
       "      <td>3</td>\n",
       "      <td>1</td>\n",
       "      <td>4</td>\n",
       "      <td>2</td>\n",
       "      <td>0</td>\n",
       "      <td>1</td>\n",
       "      <td>1</td>\n",
       "      <td>3</td>\n",
       "      <td>4</td>\n",
       "      <td>1.5</td>\n",
       "      <td>+2</td>\n",
       "    </tr>\n",
       "    <tr>\n",
       "      <th>3</th>\n",
       "      <td>Jonas Valanciunas</td>\n",
       "      <td>2012-11-06</td>\n",
       "      <td>20-184</td>\n",
       "      <td>away</td>\n",
       "      <td>TOR</td>\n",
       "      <td>OKC</td>\n",
       "      <td>L (-20)</td>\n",
       "      <td>1</td>\n",
       "      <td>31:34</td>\n",
       "      <td>6</td>\n",
       "      <td>8</td>\n",
       "      <td>0</td>\n",
       "      <td>0</td>\n",
       "      <td>0.0</td>\n",
       "      <td>6</td>\n",
       "      <td>6</td>\n",
       "      <td>1.000</td>\n",
       "      <td>3</td>\n",
       "      <td>3</td>\n",
       "      <td>6</td>\n",
       "      <td>1</td>\n",
       "      <td>0</td>\n",
       "      <td>0</td>\n",
       "      <td>3</td>\n",
       "      <td>1</td>\n",
       "      <td>18</td>\n",
       "      <td>15.1</td>\n",
       "      <td>-9</td>\n",
       "    </tr>\n",
       "    <tr>\n",
       "      <th>4</th>\n",
       "      <td>Jonas Valanciunas</td>\n",
       "      <td>2012-11-07</td>\n",
       "      <td>20-185</td>\n",
       "      <td>away</td>\n",
       "      <td>TOR</td>\n",
       "      <td>DAL</td>\n",
       "      <td>L (-5)</td>\n",
       "      <td>1</td>\n",
       "      <td>10:29</td>\n",
       "      <td>2</td>\n",
       "      <td>4</td>\n",
       "      <td>0</td>\n",
       "      <td>0</td>\n",
       "      <td>0.0</td>\n",
       "      <td>0</td>\n",
       "      <td>0</td>\n",
       "      <td>0.0</td>\n",
       "      <td>2</td>\n",
       "      <td>0</td>\n",
       "      <td>2</td>\n",
       "      <td>0</td>\n",
       "      <td>0</td>\n",
       "      <td>0</td>\n",
       "      <td>2</td>\n",
       "      <td>5</td>\n",
       "      <td>4</td>\n",
       "      <td>-0.6</td>\n",
       "      <td>-13</td>\n",
       "    </tr>\n",
       "  </tbody>\n",
       "</table>\n",
       "</div>"
      ],
      "text/plain": [
       "                Name       Dates     Age Location Team Opponent Game Result  \\\n",
       "1  Jonas Valanciunas  2012-11-03  20-181     away  TOR      BRK      L (-7)   \n",
       "2  Jonas Valanciunas  2012-11-04  20-182     home  TOR      MIN     W (+19)   \n",
       "3  Jonas Valanciunas  2012-11-06  20-184     away  TOR      OKC     L (-20)   \n",
       "4  Jonas Valanciunas  2012-11-07  20-185     away  TOR      DAL      L (-5)   \n",
       "\n",
       "  Started Minutes Played FG FGA FG3 FG3A FG3Pct FreeThrows  \\\n",
       "1       1          12:13  1   4   0    0    0.0          0   \n",
       "2       1          22:42  2   8   0    0    0.0          0   \n",
       "3       1          31:34  6   8   0    0    0.0          6   \n",
       "4       1          10:29  2   4   0    0    0.0          0   \n",
       "\n",
       "  Free Throw Attempts Free Throw Percent Offensive Rebounds  \\\n",
       "1                   0                0.0                  1   \n",
       "2                   0                0.0                  3   \n",
       "3                   6              1.000                  3   \n",
       "4                   0                0.0                  2   \n",
       "\n",
       "  Defensive Rebounds Total Rebounds Assists Steals Blocks Turnovers  \\\n",
       "1                  2              3       2      0      2         1   \n",
       "2                  1              4       2      0      1         1   \n",
       "3                  3              6       1      0      0         3   \n",
       "4                  0              2       0      0      0         2   \n",
       "\n",
       "  Personal Fouls Points Game Score Plus Minus  \n",
       "1              3      2        1.5         +1  \n",
       "2              3      4        1.5         +2  \n",
       "3              1     18       15.1         -9  \n",
       "4              5      4       -0.6        -13  "
      ]
     },
     "execution_count": 108,
     "metadata": {},
     "output_type": "execute_result"
    }
   ],
   "source": [
    "# Selecting a range of rows from all columns\n",
    "player_data[1:5]"
   ]
  },
  {
   "cell_type": "code",
   "execution_count": 114,
   "metadata": {},
   "outputs": [
    {
     "data": {
      "text/html": [
       "<div>\n",
       "<table border=\"1\" class=\"dataframe\">\n",
       "  <thead>\n",
       "    <tr style=\"text-align: right;\">\n",
       "      <th></th>\n",
       "      <th>Name</th>\n",
       "      <th>Dates</th>\n",
       "      <th>Age</th>\n",
       "      <th>Location</th>\n",
       "    </tr>\n",
       "  </thead>\n",
       "  <tbody>\n",
       "    <tr>\n",
       "      <th>1</th>\n",
       "      <td>Jonas Valanciunas</td>\n",
       "      <td>2012-11-03</td>\n",
       "      <td>20-181</td>\n",
       "      <td>away</td>\n",
       "    </tr>\n",
       "    <tr>\n",
       "      <th>555</th>\n",
       "      <td>Delon Wright</td>\n",
       "      <td>2015-12-03</td>\n",
       "      <td>23-221</td>\n",
       "      <td>home</td>\n",
       "    </tr>\n",
       "  </tbody>\n",
       "</table>\n",
       "</div>"
      ],
      "text/plain": [
       "                  Name       Dates     Age Location\n",
       "1    Jonas Valanciunas  2012-11-03  20-181     away\n",
       "555       Delon Wright  2015-12-03  23-221     home"
      ]
     },
     "execution_count": 114,
     "metadata": {},
     "output_type": "execute_result"
    }
   ],
   "source": [
    "# select specific rows and specific columns\n",
    "player_data.iloc[[1,555], [0,1,2,3]]"
   ]
  },
  {
   "cell_type": "code",
   "execution_count": 137,
   "metadata": {},
   "outputs": [],
   "source": [
    "# select specified rows and columns:\n",
    "delon = player_data.iloc[707:755,0:20]"
   ]
  },
  {
   "cell_type": "code",
   "execution_count": 118,
   "metadata": {},
   "outputs": [
    {
     "data": {
      "text/html": [
       "<div>\n",
       "<table border=\"1\" class=\"dataframe\">\n",
       "  <thead>\n",
       "    <tr style=\"text-align: right;\">\n",
       "      <th></th>\n",
       "      <th>Name</th>\n",
       "      <th>Dates</th>\n",
       "      <th>Age</th>\n",
       "      <th>Location</th>\n",
       "      <th>Team</th>\n",
       "      <th>Opponent</th>\n",
       "      <th>Game Result</th>\n",
       "      <th>Started</th>\n",
       "      <th>Minutes Played</th>\n",
       "      <th>FG</th>\n",
       "    </tr>\n",
       "  </thead>\n",
       "  <tbody>\n",
       "    <tr>\n",
       "      <th>3000</th>\n",
       "      <td>C.J. Miles</td>\n",
       "      <td>2012-11-27</td>\n",
       "      <td>25-254</td>\n",
       "      <td>home</td>\n",
       "      <td>CLE</td>\n",
       "      <td>PHO</td>\n",
       "      <td>L (-13)</td>\n",
       "      <td>0</td>\n",
       "      <td>19:25</td>\n",
       "      <td>3</td>\n",
       "    </tr>\n",
       "    <tr>\n",
       "      <th>5</th>\n",
       "      <td>Jonas Valanciunas</td>\n",
       "      <td>2012-11-10</td>\n",
       "      <td>20-188</td>\n",
       "      <td>home</td>\n",
       "      <td>TOR</td>\n",
       "      <td>PHI</td>\n",
       "      <td>L (-10)</td>\n",
       "      <td>1</td>\n",
       "      <td>20:18</td>\n",
       "      <td>3</td>\n",
       "    </tr>\n",
       "  </tbody>\n",
       "</table>\n",
       "</div>"
      ],
      "text/plain": [
       "                   Name       Dates     Age Location Team Opponent  \\\n",
       "3000         C.J. Miles  2012-11-27  25-254     home  CLE      PHO   \n",
       "5     Jonas Valanciunas  2012-11-10  20-188     home  TOR      PHI   \n",
       "\n",
       "     Game Result Started Minutes Played FG  \n",
       "3000     L (-13)       0          19:25  3  \n",
       "5        L (-10)       1          20:18  3  "
      ]
     },
     "execution_count": 118,
     "metadata": {},
     "output_type": "execute_result"
    }
   ],
   "source": [
    "# select specified rows and columns:\n",
    "player_data.iloc[[3000,5],0:10]"
   ]
  },
  {
   "cell_type": "code",
   "execution_count": 128,
   "metadata": {},
   "outputs": [],
   "source": [
    "# selecting a series object from a dataframe\n",
    "games= player_data[\"Game Result\"][0:130]"
   ]
  },
  {
   "cell_type": "code",
   "execution_count": 127,
   "metadata": {},
   "outputs": [],
   "source": [
    "randSelect = player_data[['Name','Team','Minutes Played', 'Plus Minus']].loc[[63000,978,2302]]"
   ]
  },
  {
   "cell_type": "code",
   "execution_count": 136,
   "metadata": {},
   "outputs": [
    {
     "name": "stdout",
     "output_type": "stream",
     "text": [
      "Jonas Valanciunas + Jonas Valanciunas + Jonas Valanciunas\n"
     ]
    }
   ],
   "source": [
    "# selecting a scalar value from a Data Frame\n",
    "name = player_data.at[5,'Name']\n",
    "name2 = player_data['Name'][5]\n",
    "name3 = player_data.iat[5,0]\n",
    "print(name,\"+\", name2,\"+\", name3)"
   ]
  },
  {
   "cell_type": "code",
   "execution_count": 158,
   "metadata": {},
   "outputs": [],
   "source": [
    "# Sorting with 'quicksort', 'mergesort', or 'heapsort'\n",
    "points_leader = player_data.sort_values(\"FG3Pct\", ascending=True,kind='heapsort')\n"
   ]
  },
  {
   "cell_type": "code",
   "execution_count": 161,
   "metadata": {},
   "outputs": [],
   "source": [
    "# selecting values based on a boolean search\n",
    "boolean_select = points_leader.FG3Pct > \".43\""
   ]
  },
  {
   "cell_type": "code",
   "execution_count": 180,
   "metadata": {},
   "outputs": [],
   "source": [
    "# selecting a specific element by name\n",
    "kawhi = points_leader.loc[points_leader['Name'] == \"Kawhi Leonard\"]"
   ]
  },
  {
   "cell_type": "code",
   "execution_count": 181,
   "metadata": {},
   "outputs": [
    {
     "data": {
      "text/html": [
       "<div>\n",
       "<table border=\"1\" class=\"dataframe\">\n",
       "  <thead>\n",
       "    <tr style=\"text-align: right;\">\n",
       "      <th></th>\n",
       "      <th>Name</th>\n",
       "      <th>Dates</th>\n",
       "      <th>Age</th>\n",
       "      <th>Location</th>\n",
       "      <th>Team</th>\n",
       "      <th>Opponent</th>\n",
       "      <th>Game Result</th>\n",
       "      <th>Started</th>\n",
       "      <th>Minutes Played</th>\n",
       "      <th>FG</th>\n",
       "      <th>FGA</th>\n",
       "      <th>FG3</th>\n",
       "      <th>FG3A</th>\n",
       "      <th>FG3Pct</th>\n",
       "      <th>FreeThrows</th>\n",
       "      <th>Free Throw Attempts</th>\n",
       "      <th>Free Throw Percent</th>\n",
       "      <th>Offensive Rebounds</th>\n",
       "      <th>Defensive Rebounds</th>\n",
       "      <th>Total Rebounds</th>\n",
       "      <th>Assists</th>\n",
       "      <th>Steals</th>\n",
       "      <th>Blocks</th>\n",
       "      <th>Turnovers</th>\n",
       "      <th>Personal Fouls</th>\n",
       "      <th>Points</th>\n",
       "      <th>Game Score</th>\n",
       "      <th>Plus Minus</th>\n",
       "    </tr>\n",
       "  </thead>\n",
       "  <tbody>\n",
       "    <tr>\n",
       "      <th>1215</th>\n",
       "      <td>Kawhi Leonard</td>\n",
       "      <td>2016-04-10</td>\n",
       "      <td>24-286</td>\n",
       "      <td>home</td>\n",
       "      <td>SAS</td>\n",
       "      <td>GSW</td>\n",
       "      <td>L (-6)</td>\n",
       "      <td>1</td>\n",
       "      <td>38:59</td>\n",
       "      <td>7</td>\n",
       "      <td>22</td>\n",
       "      <td>0</td>\n",
       "      <td>3</td>\n",
       "      <td>.000</td>\n",
       "      <td>6</td>\n",
       "      <td>7</td>\n",
       "      <td>.857</td>\n",
       "      <td>6</td>\n",
       "      <td>7</td>\n",
       "      <td>13</td>\n",
       "      <td>5</td>\n",
       "      <td>2</td>\n",
       "      <td>3</td>\n",
       "      <td>0</td>\n",
       "      <td>3</td>\n",
       "      <td>20</td>\n",
       "      <td>19.7</td>\n",
       "      <td>-10</td>\n",
       "    </tr>\n",
       "    <tr>\n",
       "      <th>1055</th>\n",
       "      <td>Kawhi Leonard</td>\n",
       "      <td>2014-10-31</td>\n",
       "      <td>23-124</td>\n",
       "      <td>away</td>\n",
       "      <td>SAS</td>\n",
       "      <td>PHO</td>\n",
       "      <td>L (-5)</td>\n",
       "      <td>1</td>\n",
       "      <td>23:39</td>\n",
       "      <td>0</td>\n",
       "      <td>5</td>\n",
       "      <td>0</td>\n",
       "      <td>1</td>\n",
       "      <td>.000</td>\n",
       "      <td>6</td>\n",
       "      <td>6</td>\n",
       "      <td>1.000</td>\n",
       "      <td>1</td>\n",
       "      <td>7</td>\n",
       "      <td>8</td>\n",
       "      <td>1</td>\n",
       "      <td>0</td>\n",
       "      <td>0</td>\n",
       "      <td>1</td>\n",
       "      <td>0</td>\n",
       "      <td>6</td>\n",
       "      <td>5.0</td>\n",
       "      <td>+13</td>\n",
       "    </tr>\n",
       "    <tr>\n",
       "      <th>976</th>\n",
       "      <td>Kawhi Leonard</td>\n",
       "      <td>2013-11-06</td>\n",
       "      <td>22-130</td>\n",
       "      <td>home</td>\n",
       "      <td>SAS</td>\n",
       "      <td>PHO</td>\n",
       "      <td>W (+3)</td>\n",
       "      <td>1</td>\n",
       "      <td>27:16</td>\n",
       "      <td>4</td>\n",
       "      <td>9</td>\n",
       "      <td>0</td>\n",
       "      <td>2</td>\n",
       "      <td>.000</td>\n",
       "      <td>0</td>\n",
       "      <td>0</td>\n",
       "      <td>0.0</td>\n",
       "      <td>1</td>\n",
       "      <td>5</td>\n",
       "      <td>6</td>\n",
       "      <td>1</td>\n",
       "      <td>1</td>\n",
       "      <td>0</td>\n",
       "      <td>3</td>\n",
       "      <td>3</td>\n",
       "      <td>8</td>\n",
       "      <td>3.0</td>\n",
       "      <td>+4</td>\n",
       "    </tr>\n",
       "    <tr>\n",
       "      <th>1112</th>\n",
       "      <td>Kawhi Leonard</td>\n",
       "      <td>2015-02-28</td>\n",
       "      <td>23-244</td>\n",
       "      <td>away</td>\n",
       "      <td>SAS</td>\n",
       "      <td>PHO</td>\n",
       "      <td>W (+27)</td>\n",
       "      <td>1</td>\n",
       "      <td>31:55</td>\n",
       "      <td>9</td>\n",
       "      <td>18</td>\n",
       "      <td>0</td>\n",
       "      <td>1</td>\n",
       "      <td>.000</td>\n",
       "      <td>4</td>\n",
       "      <td>4</td>\n",
       "      <td>1.000</td>\n",
       "      <td>0</td>\n",
       "      <td>10</td>\n",
       "      <td>10</td>\n",
       "      <td>0</td>\n",
       "      <td>3</td>\n",
       "      <td>2</td>\n",
       "      <td>0</td>\n",
       "      <td>2</td>\n",
       "      <td>22</td>\n",
       "      <td>19.6</td>\n",
       "      <td>+24</td>\n",
       "    </tr>\n",
       "    <tr>\n",
       "      <th>1005</th>\n",
       "      <td>Kawhi Leonard</td>\n",
       "      <td>2014-01-04</td>\n",
       "      <td>22-189</td>\n",
       "      <td>home</td>\n",
       "      <td>SAS</td>\n",
       "      <td>LAC</td>\n",
       "      <td>W (+24)</td>\n",
       "      <td>1</td>\n",
       "      <td>29:43</td>\n",
       "      <td>5</td>\n",
       "      <td>8</td>\n",
       "      <td>0</td>\n",
       "      <td>1</td>\n",
       "      <td>.000</td>\n",
       "      <td>0</td>\n",
       "      <td>0</td>\n",
       "      <td>0.0</td>\n",
       "      <td>0</td>\n",
       "      <td>4</td>\n",
       "      <td>4</td>\n",
       "      <td>0</td>\n",
       "      <td>0</td>\n",
       "      <td>0</td>\n",
       "      <td>4</td>\n",
       "      <td>2</td>\n",
       "      <td>10</td>\n",
       "      <td>2.8</td>\n",
       "      <td>+17</td>\n",
       "    </tr>\n",
       "  </tbody>\n",
       "</table>\n",
       "</div>"
      ],
      "text/plain": [
       "               Name       Dates     Age Location Team Opponent Game Result  \\\n",
       "1215  Kawhi Leonard  2016-04-10  24-286     home  SAS      GSW      L (-6)   \n",
       "1055  Kawhi Leonard  2014-10-31  23-124     away  SAS      PHO      L (-5)   \n",
       "976   Kawhi Leonard  2013-11-06  22-130     home  SAS      PHO      W (+3)   \n",
       "1112  Kawhi Leonard  2015-02-28  23-244     away  SAS      PHO     W (+27)   \n",
       "1005  Kawhi Leonard  2014-01-04  22-189     home  SAS      LAC     W (+24)   \n",
       "\n",
       "     Started Minutes Played FG FGA FG3 FG3A FG3Pct FreeThrows  \\\n",
       "1215       1          38:59  7  22   0    3   .000          6   \n",
       "1055       1          23:39  0   5   0    1   .000          6   \n",
       "976        1          27:16  4   9   0    2   .000          0   \n",
       "1112       1          31:55  9  18   0    1   .000          4   \n",
       "1005       1          29:43  5   8   0    1   .000          0   \n",
       "\n",
       "     Free Throw Attempts Free Throw Percent Offensive Rebounds  \\\n",
       "1215                   7               .857                  6   \n",
       "1055                   6              1.000                  1   \n",
       "976                    0                0.0                  1   \n",
       "1112                   4              1.000                  0   \n",
       "1005                   0                0.0                  0   \n",
       "\n",
       "     Defensive Rebounds Total Rebounds Assists Steals Blocks Turnovers  \\\n",
       "1215                  7             13       5      2      3         0   \n",
       "1055                  7              8       1      0      0         1   \n",
       "976                   5              6       1      1      0         3   \n",
       "1112                 10             10       0      3      2         0   \n",
       "1005                  4              4       0      0      0         4   \n",
       "\n",
       "     Personal Fouls Points Game Score Plus Minus  \n",
       "1215              3     20       19.7        -10  \n",
       "1055              0      6        5.0        +13  \n",
       "976               3      8        3.0         +4  \n",
       "1112              2     22       19.6        +24  \n",
       "1005              2     10        2.8        +17  "
      ]
     },
     "execution_count": 181,
     "metadata": {},
     "output_type": "execute_result"
    }
   ],
   "source": [
    "kawhi.head()"
   ]
  },
  {
   "cell_type": "code",
   "execution_count": null,
   "metadata": {},
   "outputs": [],
   "source": []
  }
 ],
 "metadata": {
  "kernelspec": {
   "display_name": "Python 3",
   "language": "python",
   "name": "python3"
  },
  "language_info": {
   "codemirror_mode": {
    "name": "ipython",
    "version": 3
   },
   "file_extension": ".py",
   "mimetype": "text/x-python",
   "name": "python",
   "nbconvert_exporter": "python",
   "pygments_lexer": "ipython3",
   "version": "3.6.4"
  }
 },
 "nbformat": 4,
 "nbformat_minor": 2
}
