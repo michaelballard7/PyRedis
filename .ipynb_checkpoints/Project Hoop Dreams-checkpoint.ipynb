{
 "cells": [
  {
   "cell_type": "code",
   "execution_count": 7,
   "metadata": {},
   "outputs": [],
   "source": [
    "import pandas as pd\n",
    "import numpy as np\n",
    "import matplotlib.pyplot as plt"
   ]
  },
  {
   "cell_type": "markdown",
   "metadata": {},
   "source": [
    "## Stored Player Data by Game:"
   ]
  },
  {
   "cell_type": "code",
   "execution_count": 8,
   "metadata": {
    "scrolled": true
   },
   "outputs": [],
   "source": [
    "# read a file into python from a csv\n",
    "player_data = pd.read_csv('npo_all_player_games.csv')\n",
    "pd.set_option('display.max_columns', 500)"
   ]
  },
  {
   "cell_type": "code",
   "execution_count": 12,
   "metadata": {
    "scrolled": true
   },
   "outputs": [
    {
     "name": "stdout",
     "output_type": "stream",
     "text": [
      "<class 'pandas.core.frame.DataFrame'>\n",
      "RangeIndex: 67971 entries, 0 to 67970\n",
      "Data columns (total 29 columns):\n",
      "Unnamed: 0             67971 non-null int64\n",
      "Name                   67971 non-null object\n",
      "Dates                  67971 non-null object\n",
      "Age                    67971 non-null object\n",
      "Location               67971 non-null object\n",
      "Team                   67971 non-null object\n",
      "Opponent               67971 non-null object\n",
      "Game Result            67971 non-null object\n",
      "Started                67971 non-null object\n",
      "Minutes Played         67971 non-null object\n",
      "FG                     67971 non-null object\n",
      "FGA                    67971 non-null object\n",
      "FG3                    67971 non-null object\n",
      "FG3A                   67971 non-null object\n",
      "FG3Pct                 67971 non-null object\n",
      "FreeThrows             67971 non-null object\n",
      "Free Throw Attempts    67971 non-null object\n",
      "Free Throw Percent     67971 non-null object\n",
      "Offensive Rebounds     67971 non-null object\n",
      "Defensive Rebounds     67971 non-null object\n",
      "Total Rebounds         67971 non-null object\n",
      "Assists                67971 non-null object\n",
      "Steals                 67971 non-null object\n",
      "Blocks                 67971 non-null object\n",
      "Turnovers              67971 non-null object\n",
      "Personal Fouls         67971 non-null object\n",
      "Points                 67971 non-null object\n",
      "Game Score             67971 non-null object\n",
      "Plus Minus             67971 non-null object\n",
      "dtypes: int64(1), object(28)\n",
      "memory usage: 115.7 MB\n"
     ]
    }
   ],
   "source": [
    "# Check the size of the data to make sure memory is ok\n",
    "player_data.info(memory_usage='deep')"
   ]
  },
  {
   "cell_type": "markdown",
   "metadata": {},
   "source": [
    "## Pandas Refresher: Series"
   ]
  },
  {
   "cell_type": "code",
   "execution_count": 5,
   "metadata": {},
   "outputs": [],
   "source": [
    "# a pandas series can hold a numpy array, list, tuple, dictionary\n",
    "# The second argument is the index sequence\n",
    "p =pd.Series(np.random.random(size=4), index=['time1','time2','time3','time4'])"
   ]
  },
  {
   "cell_type": "code",
   "execution_count": 4,
   "metadata": {},
   "outputs": [
    {
     "data": {
      "text/plain": [
       "0.45294907631986636"
      ]
     },
     "execution_count": 4,
     "metadata": {},
     "output_type": "execute_result"
    }
   ],
   "source": [
    "p['time1']"
   ]
  },
  {
   "cell_type": "markdown",
   "metadata": {},
   "source": [
    "## Pandas DataFrames"
   ]
  },
  {
   "cell_type": "code",
   "execution_count": 13,
   "metadata": {},
   "outputs": [],
   "source": [
    "# A data frame in pandas is a generic matrix where we can use rows and columns to model data\n",
    "# In pandas each row stands for an observation\n",
    "# Each column represents some feature of the data\n",
    "# The Features of a Data Frame are given and reffered by names \n",
    "# Features can have a mixture of data types\n",
    "# Similar to a table in a Relational database, I can apply many powerful methods to conduct data analysis\n",
    "# Methods include Row manipulation, selection, soreting, reshaping etc."
   ]
  },
  {
   "cell_type": "markdown",
   "metadata": {},
   "source": [
    "#### Generating data frames:"
   ]
  },
  {
   "cell_type": "code",
   "execution_count": 18,
   "metadata": {},
   "outputs": [],
   "source": [
    "# Generating a pandas data frame:\n",
    "# constructor method: pd.DataFram(\"Accpets: NP Array | PD Series | list of lists or tuples)\n",
    "# external file: load csv's or json into a dataframe\n",
    "# selecting/ slice / or join from an existing data frame\n",
    "\n",
    "x = pd.DataFrame([pd.Series(np.random.random(size=4), index=['time1','time2','time3','time4'])])\n",
    "y = pd.DataFrame(np.array([range(1,5),[0,1,2,3]]))\n",
    "z = pd.DataFrame(np.array([[0,1,2,3],[4,5,6,6]]), columns=['c1','c2','c3','c4'])"
   ]
  },
  {
   "cell_type": "code",
   "execution_count": 19,
   "metadata": {},
   "outputs": [
    {
     "data": {
      "text/html": [
       "<div>\n",
       "<table border=\"1\" class=\"dataframe\">\n",
       "  <thead>\n",
       "    <tr style=\"text-align: right;\">\n",
       "      <th></th>\n",
       "      <th>time1</th>\n",
       "      <th>time2</th>\n",
       "      <th>time3</th>\n",
       "      <th>time4</th>\n",
       "    </tr>\n",
       "  </thead>\n",
       "  <tbody>\n",
       "    <tr>\n",
       "      <th>0</th>\n",
       "      <td>0.187832</td>\n",
       "      <td>0.775538</td>\n",
       "      <td>0.179081</td>\n",
       "      <td>0.476286</td>\n",
       "    </tr>\n",
       "  </tbody>\n",
       "</table>\n",
       "</div>"
      ],
      "text/plain": [
       "      time1     time2     time3     time4\n",
       "0  0.187832  0.775538  0.179081  0.476286"
      ]
     },
     "execution_count": 19,
     "metadata": {},
     "output_type": "execute_result"
    }
   ],
   "source": [
    "x"
   ]
  },
  {
   "cell_type": "code",
   "execution_count": 20,
   "metadata": {},
   "outputs": [
    {
     "data": {
      "text/html": [
       "<div>\n",
       "<table border=\"1\" class=\"dataframe\">\n",
       "  <thead>\n",
       "    <tr style=\"text-align: right;\">\n",
       "      <th></th>\n",
       "      <th>0</th>\n",
       "      <th>1</th>\n",
       "      <th>2</th>\n",
       "      <th>3</th>\n",
       "    </tr>\n",
       "  </thead>\n",
       "  <tbody>\n",
       "    <tr>\n",
       "      <th>0</th>\n",
       "      <td>1</td>\n",
       "      <td>2</td>\n",
       "      <td>3</td>\n",
       "      <td>4</td>\n",
       "    </tr>\n",
       "    <tr>\n",
       "      <th>1</th>\n",
       "      <td>0</td>\n",
       "      <td>1</td>\n",
       "      <td>2</td>\n",
       "      <td>3</td>\n",
       "    </tr>\n",
       "  </tbody>\n",
       "</table>\n",
       "</div>"
      ],
      "text/plain": [
       "   0  1  2  3\n",
       "0  1  2  3  4\n",
       "1  0  1  2  3"
      ]
     },
     "execution_count": 20,
     "metadata": {},
     "output_type": "execute_result"
    }
   ],
   "source": [
    "y"
   ]
  },
  {
   "cell_type": "code",
   "execution_count": 22,
   "metadata": {},
   "outputs": [
    {
     "data": {
      "text/html": [
       "<div>\n",
       "<table border=\"1\" class=\"dataframe\">\n",
       "  <thead>\n",
       "    <tr style=\"text-align: right;\">\n",
       "      <th></th>\n",
       "      <th>c1</th>\n",
       "      <th>c2</th>\n",
       "      <th>c3</th>\n",
       "      <th>c4</th>\n",
       "    </tr>\n",
       "  </thead>\n",
       "  <tbody>\n",
       "    <tr>\n",
       "      <th>0</th>\n",
       "      <td>0</td>\n",
       "      <td>1</td>\n",
       "      <td>2</td>\n",
       "      <td>3</td>\n",
       "    </tr>\n",
       "    <tr>\n",
       "      <th>1</th>\n",
       "      <td>4</td>\n",
       "      <td>5</td>\n",
       "      <td>6</td>\n",
       "      <td>6</td>\n",
       "    </tr>\n",
       "  </tbody>\n",
       "</table>\n",
       "</div>"
      ],
      "text/plain": [
       "   c1  c2  c3  c4\n",
       "0   0   1   2   3\n",
       "1   4   5   6   6"
      ]
     },
     "execution_count": 22,
     "metadata": {},
     "output_type": "execute_result"
    }
   ],
   "source": [
    "z"
   ]
  },
  {
   "cell_type": "code",
   "execution_count": null,
   "metadata": {},
   "outputs": [],
   "source": []
  }
 ],
 "metadata": {
  "kernelspec": {
   "display_name": "Python 3",
   "language": "python",
   "name": "python3"
  },
  "language_info": {
   "codemirror_mode": {
    "name": "ipython",
    "version": 3
   },
   "file_extension": ".py",
   "mimetype": "text/x-python",
   "name": "python",
   "nbconvert_exporter": "python",
   "pygments_lexer": "ipython3",
   "version": "3.6.4"
  }
 },
 "nbformat": 4,
 "nbformat_minor": 2
}
