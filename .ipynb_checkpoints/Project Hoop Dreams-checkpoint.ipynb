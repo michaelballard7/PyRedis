{
 "cells": [
  {
   "cell_type": "code",
   "execution_count": 7,
   "metadata": {},
   "outputs": [],
   "source": [
    "import pandas as pd\n",
    "import numpy as np\n",
    "import matplotlib.pyplot as plt"
   ]
  },
  {
   "cell_type": "markdown",
   "metadata": {},
   "source": [
    "## Stored Player Data by Game:"
   ]
  },
  {
   "cell_type": "code",
   "execution_count": 8,
   "metadata": {
    "scrolled": true
   },
   "outputs": [],
   "source": [
    "# read a file into python from a csv\n",
    "player_data = pd.read_csv('npo_all_player_games.csv')\n",
    "pd.set_option('display.max_columns', 500)"
   ]
  },
  {
   "cell_type": "code",
   "execution_count": 9,
   "metadata": {
    "scrolled": true
   },
   "outputs": [
    {
     "name": "stdout",
     "output_type": "stream",
     "text": [
      "<class 'pandas.core.frame.DataFrame'>\n",
      "RangeIndex: 67971 entries, 0 to 67970\n",
      "Data columns (total 29 columns):\n",
      "Unnamed: 0             67971 non-null int64\n",
      "Name                   67971 non-null object\n",
      "Dates                  67971 non-null object\n",
      "Age                    67971 non-null object\n",
      "Location               67971 non-null object\n",
      "Team                   67971 non-null object\n",
      "Opponent               67971 non-null object\n",
      "Game Result            67971 non-null object\n",
      "Started                67971 non-null object\n",
      "Minutes Played         67971 non-null object\n",
      "FG                     67971 non-null object\n",
      "FGA                    67971 non-null object\n",
      "FG3                    67971 non-null object\n",
      "FG3A                   67971 non-null object\n",
      "FG3Pct                 67971 non-null object\n",
      "FreeThrows             67971 non-null object\n",
      "Free Throw Attempts    67971 non-null object\n",
      "Free Throw Percent     67971 non-null object\n",
      "Offensive Rebounds     67971 non-null object\n",
      "Defensive Rebounds     67971 non-null object\n",
      "Total Rebounds         67971 non-null object\n",
      "Assists                67971 non-null object\n",
      "Steals                 67971 non-null object\n",
      "Blocks                 67971 non-null object\n",
      "Turnovers              67971 non-null object\n",
      "Personal Fouls         67971 non-null object\n",
      "Points                 67971 non-null object\n",
      "Game Score             67971 non-null object\n",
      "Plus Minus             67971 non-null object\n",
      "dtypes: int64(1), object(28)\n",
      "memory usage: 115.7 MB\n"
     ]
    }
   ],
   "source": [
    "player_data.info(memory_usage='deep')"
   ]
  },
  {
   "cell_type": "markdown",
   "metadata": {},
   "source": [
    "## Pandas Refresher: Series"
   ]
  },
  {
   "cell_type": "code",
   "execution_count": 5,
   "metadata": {},
   "outputs": [],
   "source": [
    "# a pandas series can hold a numpy array, list, tuple, dictionary\n",
    "# The second argument is the index sequence\n",
    "p =pd.Series(np.random.random(size=4), index=['time1','time2','time3','time4'])"
   ]
  },
  {
   "cell_type": "code",
   "execution_count": 4,
   "metadata": {},
   "outputs": [
    {
     "data": {
      "text/plain": [
       "0.45294907631986636"
      ]
     },
     "execution_count": 4,
     "metadata": {},
     "output_type": "execute_result"
    }
   ],
   "source": [
    "p['time1']"
   ]
  },
  {
   "cell_type": "markdown",
   "metadata": {},
   "source": [
    "## Pandas DataFrames"
   ]
  },
  {
   "cell_type": "code",
   "execution_count": null,
   "metadata": {},
   "outputs": [],
   "source": []
  }
 ],
 "metadata": {
  "kernelspec": {
   "display_name": "Python 3",
   "language": "python",
   "name": "python3"
  },
  "language_info": {
   "codemirror_mode": {
    "name": "ipython",
    "version": 3
   },
   "file_extension": ".py",
   "mimetype": "text/x-python",
   "name": "python",
   "nbconvert_exporter": "python",
   "pygments_lexer": "ipython3",
   "version": "3.6.4"
  }
 },
 "nbformat": 4,
 "nbformat_minor": 2
}
